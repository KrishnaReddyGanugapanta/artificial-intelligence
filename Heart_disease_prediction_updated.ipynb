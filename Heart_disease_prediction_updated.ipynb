{
 "cells": [
  {
   "cell_type": "markdown",
   "metadata": {
    "_uuid": "e41ea25bec5928203cec544d0413fecd4b4e5555"
   },
   "source": [
    "## libraries"
   ]
  },
  {
   "cell_type": "code",
   "execution_count": 1,
   "metadata": {
    "_uuid": "f571f7e57c828d45fe55f6136fe8c2e796f74d4e"
   },
   "outputs": [],
   "source": [
    "## librariesimport numpy as np\n",
    "import pandas as pd\n",
    "import matplotlib.pyplot as plt\n",
    "import seaborn as sb"
   ]
  },
  {
   "cell_type": "markdown",
   "metadata": {
    "_uuid": "44e71221837f6fa60edc2c83b7492ddb019cc1cd"
   },
   "source": [
    "## reading dataset"
   ]
  },
  {
   "cell_type": "code",
   "execution_count": 2,
   "metadata": {
    "_uuid": "2a1a1dae64ae3c934849b2b918bc7d68cd59e3f6"
   },
   "outputs": [],
   "source": [
    "df_heart = pd.read_csv(\"heart.csv\")"
   ]
  },
  {
   "cell_type": "code",
   "execution_count": 3,
   "metadata": {
    "_uuid": "0a2396061d262bee451e61dd51be84d0bd1ac9d0"
   },
   "outputs": [
    {
     "data": {
      "text/plain": [
       "(303, 14)"
      ]
     },
     "execution_count": 3,
     "metadata": {},
     "output_type": "execute_result"
    }
   ],
   "source": [
    "# shape of dataset\n",
    "df_heart.shape"
   ]
  },
  {
   "cell_type": "code",
   "execution_count": 4,
   "metadata": {
    "_uuid": "87ebcc578e5959fe9a9c9a538c73122183454459"
   },
   "outputs": [
    {
     "data": {
      "text/html": [
       "<div>\n",
       "<style scoped>\n",
       "    .dataframe tbody tr th:only-of-type {\n",
       "        vertical-align: middle;\n",
       "    }\n",
       "\n",
       "    .dataframe tbody tr th {\n",
       "        vertical-align: top;\n",
       "    }\n",
       "\n",
       "    .dataframe thead th {\n",
       "        text-align: right;\n",
       "    }\n",
       "</style>\n",
       "<table border=\"1\" class=\"dataframe\">\n",
       "  <thead>\n",
       "    <tr style=\"text-align: right;\">\n",
       "      <th></th>\n",
       "      <th>age</th>\n",
       "      <th>sex</th>\n",
       "      <th>cp</th>\n",
       "      <th>trestbps</th>\n",
       "      <th>chol</th>\n",
       "      <th>fbs</th>\n",
       "      <th>restecg</th>\n",
       "      <th>thalach</th>\n",
       "      <th>exang</th>\n",
       "      <th>oldpeak</th>\n",
       "      <th>slope</th>\n",
       "      <th>ca</th>\n",
       "      <th>thal</th>\n",
       "      <th>target</th>\n",
       "    </tr>\n",
       "  </thead>\n",
       "  <tbody>\n",
       "    <tr>\n",
       "      <th>0</th>\n",
       "      <td>63</td>\n",
       "      <td>1</td>\n",
       "      <td>3</td>\n",
       "      <td>145</td>\n",
       "      <td>233</td>\n",
       "      <td>1</td>\n",
       "      <td>0</td>\n",
       "      <td>150</td>\n",
       "      <td>0</td>\n",
       "      <td>2.3</td>\n",
       "      <td>0</td>\n",
       "      <td>0</td>\n",
       "      <td>1</td>\n",
       "      <td>1</td>\n",
       "    </tr>\n",
       "    <tr>\n",
       "      <th>1</th>\n",
       "      <td>37</td>\n",
       "      <td>1</td>\n",
       "      <td>2</td>\n",
       "      <td>130</td>\n",
       "      <td>250</td>\n",
       "      <td>0</td>\n",
       "      <td>1</td>\n",
       "      <td>187</td>\n",
       "      <td>0</td>\n",
       "      <td>3.5</td>\n",
       "      <td>0</td>\n",
       "      <td>0</td>\n",
       "      <td>2</td>\n",
       "      <td>1</td>\n",
       "    </tr>\n",
       "    <tr>\n",
       "      <th>2</th>\n",
       "      <td>41</td>\n",
       "      <td>0</td>\n",
       "      <td>1</td>\n",
       "      <td>130</td>\n",
       "      <td>204</td>\n",
       "      <td>0</td>\n",
       "      <td>0</td>\n",
       "      <td>172</td>\n",
       "      <td>0</td>\n",
       "      <td>1.4</td>\n",
       "      <td>2</td>\n",
       "      <td>0</td>\n",
       "      <td>2</td>\n",
       "      <td>1</td>\n",
       "    </tr>\n",
       "    <tr>\n",
       "      <th>3</th>\n",
       "      <td>56</td>\n",
       "      <td>1</td>\n",
       "      <td>1</td>\n",
       "      <td>120</td>\n",
       "      <td>236</td>\n",
       "      <td>0</td>\n",
       "      <td>1</td>\n",
       "      <td>178</td>\n",
       "      <td>0</td>\n",
       "      <td>0.8</td>\n",
       "      <td>2</td>\n",
       "      <td>0</td>\n",
       "      <td>2</td>\n",
       "      <td>1</td>\n",
       "    </tr>\n",
       "    <tr>\n",
       "      <th>4</th>\n",
       "      <td>57</td>\n",
       "      <td>0</td>\n",
       "      <td>0</td>\n",
       "      <td>120</td>\n",
       "      <td>354</td>\n",
       "      <td>0</td>\n",
       "      <td>1</td>\n",
       "      <td>163</td>\n",
       "      <td>1</td>\n",
       "      <td>0.6</td>\n",
       "      <td>2</td>\n",
       "      <td>0</td>\n",
       "      <td>2</td>\n",
       "      <td>1</td>\n",
       "    </tr>\n",
       "  </tbody>\n",
       "</table>\n",
       "</div>"
      ],
      "text/plain": [
       "   age  sex  cp  trestbps  chol  fbs  restecg  thalach  exang  oldpeak  slope  \\\n",
       "0   63    1   3       145   233    1        0      150      0      2.3      0   \n",
       "1   37    1   2       130   250    0        1      187      0      3.5      0   \n",
       "2   41    0   1       130   204    0        0      172      0      1.4      2   \n",
       "3   56    1   1       120   236    0        1      178      0      0.8      2   \n",
       "4   57    0   0       120   354    0        1      163      1      0.6      2   \n",
       "\n",
       "   ca  thal  target  \n",
       "0   0     1       1  \n",
       "1   0     2       1  \n",
       "2   0     2       1  \n",
       "3   0     2       1  \n",
       "4   0     2       1  "
      ]
     },
     "execution_count": 4,
     "metadata": {},
     "output_type": "execute_result"
    }
   ],
   "source": [
    "# displaying top 5 columns\n",
    "df_heart.head(5)"
   ]
  },
  {
   "cell_type": "code",
   "execution_count": 5,
   "metadata": {
    "_uuid": "c31619815cb0dae5586985671fdc21110b39a821"
   },
   "outputs": [
    {
     "data": {
      "text/html": [
       "<div>\n",
       "<style scoped>\n",
       "    .dataframe tbody tr th:only-of-type {\n",
       "        vertical-align: middle;\n",
       "    }\n",
       "\n",
       "    .dataframe tbody tr th {\n",
       "        vertical-align: top;\n",
       "    }\n",
       "\n",
       "    .dataframe thead th {\n",
       "        text-align: right;\n",
       "    }\n",
       "</style>\n",
       "<table border=\"1\" class=\"dataframe\">\n",
       "  <thead>\n",
       "    <tr style=\"text-align: right;\">\n",
       "      <th></th>\n",
       "      <th>age</th>\n",
       "      <th>sex</th>\n",
       "      <th>cp</th>\n",
       "      <th>trestbps</th>\n",
       "      <th>chol</th>\n",
       "      <th>fbs</th>\n",
       "      <th>restecg</th>\n",
       "      <th>thalach</th>\n",
       "      <th>exang</th>\n",
       "      <th>oldpeak</th>\n",
       "      <th>slope</th>\n",
       "      <th>ca</th>\n",
       "      <th>thal</th>\n",
       "      <th>target</th>\n",
       "    </tr>\n",
       "  </thead>\n",
       "  <tbody>\n",
       "    <tr>\n",
       "      <th>count</th>\n",
       "      <td>303.000000</td>\n",
       "      <td>303.000000</td>\n",
       "      <td>303.000000</td>\n",
       "      <td>303.000000</td>\n",
       "      <td>303.000000</td>\n",
       "      <td>303.000000</td>\n",
       "      <td>303.000000</td>\n",
       "      <td>303.000000</td>\n",
       "      <td>303.000000</td>\n",
       "      <td>303.000000</td>\n",
       "      <td>303.000000</td>\n",
       "      <td>303.000000</td>\n",
       "      <td>303.000000</td>\n",
       "      <td>303.000000</td>\n",
       "    </tr>\n",
       "    <tr>\n",
       "      <th>mean</th>\n",
       "      <td>54.366337</td>\n",
       "      <td>0.683168</td>\n",
       "      <td>0.966997</td>\n",
       "      <td>131.623762</td>\n",
       "      <td>246.264026</td>\n",
       "      <td>0.148515</td>\n",
       "      <td>0.528053</td>\n",
       "      <td>149.646865</td>\n",
       "      <td>0.326733</td>\n",
       "      <td>1.039604</td>\n",
       "      <td>1.399340</td>\n",
       "      <td>0.729373</td>\n",
       "      <td>2.313531</td>\n",
       "      <td>0.544554</td>\n",
       "    </tr>\n",
       "    <tr>\n",
       "      <th>std</th>\n",
       "      <td>9.082101</td>\n",
       "      <td>0.466011</td>\n",
       "      <td>1.032052</td>\n",
       "      <td>17.538143</td>\n",
       "      <td>51.830751</td>\n",
       "      <td>0.356198</td>\n",
       "      <td>0.525860</td>\n",
       "      <td>22.905161</td>\n",
       "      <td>0.469794</td>\n",
       "      <td>1.161075</td>\n",
       "      <td>0.616226</td>\n",
       "      <td>1.022606</td>\n",
       "      <td>0.612277</td>\n",
       "      <td>0.498835</td>\n",
       "    </tr>\n",
       "    <tr>\n",
       "      <th>min</th>\n",
       "      <td>29.000000</td>\n",
       "      <td>0.000000</td>\n",
       "      <td>0.000000</td>\n",
       "      <td>94.000000</td>\n",
       "      <td>126.000000</td>\n",
       "      <td>0.000000</td>\n",
       "      <td>0.000000</td>\n",
       "      <td>71.000000</td>\n",
       "      <td>0.000000</td>\n",
       "      <td>0.000000</td>\n",
       "      <td>0.000000</td>\n",
       "      <td>0.000000</td>\n",
       "      <td>0.000000</td>\n",
       "      <td>0.000000</td>\n",
       "    </tr>\n",
       "    <tr>\n",
       "      <th>25%</th>\n",
       "      <td>47.500000</td>\n",
       "      <td>0.000000</td>\n",
       "      <td>0.000000</td>\n",
       "      <td>120.000000</td>\n",
       "      <td>211.000000</td>\n",
       "      <td>0.000000</td>\n",
       "      <td>0.000000</td>\n",
       "      <td>133.500000</td>\n",
       "      <td>0.000000</td>\n",
       "      <td>0.000000</td>\n",
       "      <td>1.000000</td>\n",
       "      <td>0.000000</td>\n",
       "      <td>2.000000</td>\n",
       "      <td>0.000000</td>\n",
       "    </tr>\n",
       "    <tr>\n",
       "      <th>50%</th>\n",
       "      <td>55.000000</td>\n",
       "      <td>1.000000</td>\n",
       "      <td>1.000000</td>\n",
       "      <td>130.000000</td>\n",
       "      <td>240.000000</td>\n",
       "      <td>0.000000</td>\n",
       "      <td>1.000000</td>\n",
       "      <td>153.000000</td>\n",
       "      <td>0.000000</td>\n",
       "      <td>0.800000</td>\n",
       "      <td>1.000000</td>\n",
       "      <td>0.000000</td>\n",
       "      <td>2.000000</td>\n",
       "      <td>1.000000</td>\n",
       "    </tr>\n",
       "    <tr>\n",
       "      <th>75%</th>\n",
       "      <td>61.000000</td>\n",
       "      <td>1.000000</td>\n",
       "      <td>2.000000</td>\n",
       "      <td>140.000000</td>\n",
       "      <td>274.500000</td>\n",
       "      <td>0.000000</td>\n",
       "      <td>1.000000</td>\n",
       "      <td>166.000000</td>\n",
       "      <td>1.000000</td>\n",
       "      <td>1.600000</td>\n",
       "      <td>2.000000</td>\n",
       "      <td>1.000000</td>\n",
       "      <td>3.000000</td>\n",
       "      <td>1.000000</td>\n",
       "    </tr>\n",
       "    <tr>\n",
       "      <th>max</th>\n",
       "      <td>77.000000</td>\n",
       "      <td>1.000000</td>\n",
       "      <td>3.000000</td>\n",
       "      <td>200.000000</td>\n",
       "      <td>564.000000</td>\n",
       "      <td>1.000000</td>\n",
       "      <td>2.000000</td>\n",
       "      <td>202.000000</td>\n",
       "      <td>1.000000</td>\n",
       "      <td>6.200000</td>\n",
       "      <td>2.000000</td>\n",
       "      <td>4.000000</td>\n",
       "      <td>3.000000</td>\n",
       "      <td>1.000000</td>\n",
       "    </tr>\n",
       "  </tbody>\n",
       "</table>\n",
       "</div>"
      ],
      "text/plain": [
       "              age         sex          cp    trestbps        chol         fbs  \\\n",
       "count  303.000000  303.000000  303.000000  303.000000  303.000000  303.000000   \n",
       "mean    54.366337    0.683168    0.966997  131.623762  246.264026    0.148515   \n",
       "std      9.082101    0.466011    1.032052   17.538143   51.830751    0.356198   \n",
       "min     29.000000    0.000000    0.000000   94.000000  126.000000    0.000000   \n",
       "25%     47.500000    0.000000    0.000000  120.000000  211.000000    0.000000   \n",
       "50%     55.000000    1.000000    1.000000  130.000000  240.000000    0.000000   \n",
       "75%     61.000000    1.000000    2.000000  140.000000  274.500000    0.000000   \n",
       "max     77.000000    1.000000    3.000000  200.000000  564.000000    1.000000   \n",
       "\n",
       "          restecg     thalach       exang     oldpeak       slope          ca  \\\n",
       "count  303.000000  303.000000  303.000000  303.000000  303.000000  303.000000   \n",
       "mean     0.528053  149.646865    0.326733    1.039604    1.399340    0.729373   \n",
       "std      0.525860   22.905161    0.469794    1.161075    0.616226    1.022606   \n",
       "min      0.000000   71.000000    0.000000    0.000000    0.000000    0.000000   \n",
       "25%      0.000000  133.500000    0.000000    0.000000    1.000000    0.000000   \n",
       "50%      1.000000  153.000000    0.000000    0.800000    1.000000    0.000000   \n",
       "75%      1.000000  166.000000    1.000000    1.600000    2.000000    1.000000   \n",
       "max      2.000000  202.000000    1.000000    6.200000    2.000000    4.000000   \n",
       "\n",
       "             thal      target  \n",
       "count  303.000000  303.000000  \n",
       "mean     2.313531    0.544554  \n",
       "std      0.612277    0.498835  \n",
       "min      0.000000    0.000000  \n",
       "25%      2.000000    0.000000  \n",
       "50%      2.000000    1.000000  \n",
       "75%      3.000000    1.000000  \n",
       "max      3.000000    1.000000  "
      ]
     },
     "execution_count": 5,
     "metadata": {},
     "output_type": "execute_result"
    }
   ],
   "source": [
    "# describing dataset\n",
    "df_heart.describe()"
   ]
  },
  {
   "cell_type": "code",
   "execution_count": 6,
   "metadata": {
    "_uuid": "718b82039841c137ab7e08a6e79e264643134642"
   },
   "outputs": [
    {
     "name": "stdout",
     "output_type": "stream",
     "text": [
      "<class 'pandas.core.frame.DataFrame'>\n",
      "RangeIndex: 303 entries, 0 to 302\n",
      "Data columns (total 14 columns):\n",
      " #   Column    Non-Null Count  Dtype  \n",
      "---  ------    --------------  -----  \n",
      " 0   age       303 non-null    int64  \n",
      " 1   sex       303 non-null    int64  \n",
      " 2   cp        303 non-null    int64  \n",
      " 3   trestbps  303 non-null    int64  \n",
      " 4   chol      303 non-null    int64  \n",
      " 5   fbs       303 non-null    int64  \n",
      " 6   restecg   303 non-null    int64  \n",
      " 7   thalach   303 non-null    int64  \n",
      " 8   exang     303 non-null    int64  \n",
      " 9   oldpeak   303 non-null    float64\n",
      " 10  slope     303 non-null    int64  \n",
      " 11  ca        303 non-null    int64  \n",
      " 12  thal      303 non-null    int64  \n",
      " 13  target    303 non-null    int64  \n",
      "dtypes: float64(1), int64(13)\n",
      "memory usage: 33.3 KB\n"
     ]
    }
   ],
   "source": [
    "# data types information\n",
    "df_heart.info()"
   ]
  },
  {
   "cell_type": "code",
   "execution_count": 7,
   "metadata": {
    "_uuid": "b883243919bd382193ed15e2a90f9b522bf6f1f7"
   },
   "outputs": [
    {
     "data": {
      "text/plain": [
       "count    303.000000\n",
       "mean       0.544554\n",
       "std        0.498835\n",
       "min        0.000000\n",
       "25%        0.000000\n",
       "50%        1.000000\n",
       "75%        1.000000\n",
       "max        1.000000\n",
       "Name: target, dtype: float64"
      ]
     },
     "execution_count": 7,
     "metadata": {},
     "output_type": "execute_result"
    }
   ],
   "source": [
    "# target variable inforfmation\n",
    "df_heart[\"target\"].describe()"
   ]
  },
  {
   "cell_type": "code",
   "execution_count": 8,
   "metadata": {
    "_uuid": "9c107b83e0148914826282bf1f0ab28505d577ab"
   },
   "outputs": [
    {
     "data": {
      "text/plain": [
       "array([1, 0], dtype=int64)"
      ]
     },
     "execution_count": 8,
     "metadata": {},
     "output_type": "execute_result"
    }
   ],
   "source": [
    "df_heart[\"target\"].unique()"
   ]
  },
  {
   "cell_type": "markdown",
   "metadata": {
    "_uuid": "40b6c0a9d03bcab78b87bd41c7df3fe1b930547a"
   },
   "source": [
    "## Exploratory Data Analysis (EDA)"
   ]
  },
  {
   "cell_type": "code",
   "execution_count": 9,
   "metadata": {
    "_uuid": "29aa23ccb8e6438688e16346b3474f4cc03bae13"
   },
   "outputs": [
    {
     "name": "stdout",
     "output_type": "stream",
     "text": [
      "1    165\n",
      "0    138\n",
      "Name: target, dtype: int64\n"
     ]
    },
    {
     "name": "stderr",
     "output_type": "stream",
     "text": [
      "C:\\Users\\siriv\\anaconda3\\lib\\site-packages\\seaborn\\_decorators.py:36: FutureWarning: Pass the following variable as a keyword arg: x. From version 0.12, the only valid positional argument will be `data`, and passing other arguments without an explicit keyword will result in an error or misinterpretation.\n",
      "  warnings.warn(\n"
     ]
    },
    {
     "data": {
      "image/png": "[encoded data removed]",
      "text/plain": [
       "<Figure size 432x288 with 1 Axes>"
      ]
     },
     "metadata": {
      "needs_background": "light"
     },
     "output_type": "display_data"
    }
   ],
   "source": [
    "# heart disease and non heart disease patients counts\n",
    "y = df_heart[\"target\"]\n",
    "sb.countplot(y)\n",
    "target_temp = df_heart.target.value_counts()\n",
    "print(target_temp)"
   ]
  },
  {
   "cell_type": "code",
   "execution_count": 10,
   "metadata": {
    "_uuid": "5d10e6c167251e6d3b1b82a06159da234eeef721"
   },
   "outputs": [
    {
     "name": "stderr",
     "output_type": "stream",
     "text": [
      "C:\\Users\\siriv\\anaconda3\\lib\\site-packages\\seaborn\\_decorators.py:36: FutureWarning: Pass the following variables as keyword args: x, y. From version 0.12, the only valid positional argument will be `data`, and passing other arguments without an explicit keyword will result in an error or misinterpretation.\n",
      "  warnings.warn(\n"
     ]
    },
    {
     "data": {
      "text/plain": [
       "<AxesSubplot:xlabel='sex', ylabel='target'>"
      ]
     },
     "execution_count": 10,
     "metadata": {},
     "output_type": "execute_result"
    },
    {
     "data": {
      "image/png": "[encoded data removed]",
      "text/plain": [
       "<Figure size 432x288 with 1 Axes>"
      ]
     },
     "metadata": {
      "needs_background": "light"
     },
     "output_type": "display_data"
    }
   ],
   "source": [
    "# genderwise patients counts\n",
    "sb.barplot(df_heart[\"sex\"],y)"
   ]
  },
  {
   "cell_type": "code",
   "execution_count": 11,
   "metadata": {
    "_uuid": "56d6ed2b3d8d20a61814980cd459502b452d14c1"
   },
   "outputs": [
    {
     "name": "stderr",
     "output_type": "stream",
     "text": [
      "C:\\Users\\siriv\\anaconda3\\lib\\site-packages\\seaborn\\_decorators.py:36: FutureWarning: Pass the following variables as keyword args: x, y. From version 0.12, the only valid positional argument will be `data`, and passing other arguments without an explicit keyword will result in an error or misinterpretation.\n",
      "  warnings.warn(\n"
     ]
    },
    {
     "data": {
      "text/plain": [
       "<AxesSubplot:xlabel='cp', ylabel='target'>"
      ]
     },
     "execution_count": 11,
     "metadata": {},
     "output_type": "execute_result"
    },
    {
     "data": {
      "image/png": "[encoded data removed]",
      "text/plain": [
       "<Figure size 432x288 with 1 Axes>"
      ]
     },
     "metadata": {
      "needs_background": "light"
     },
     "output_type": "display_data"
    }
   ],
   "source": [
    "# chest pain counts\n",
    "sb.barplot(df_heart[\"cp\"],y)"
   ]
  },
  {
   "cell_type": "code",
   "execution_count": 12,
   "metadata": {
    "_uuid": "90509dcee97df858115131c771e69347a044aafb"
   },
   "outputs": [
    {
     "name": "stderr",
     "output_type": "stream",
     "text": [
      "C:\\Users\\siriv\\anaconda3\\lib\\site-packages\\seaborn\\_decorators.py:36: FutureWarning: Pass the following variables as keyword args: x, y. From version 0.12, the only valid positional argument will be `data`, and passing other arguments without an explicit keyword will result in an error or misinterpretation.\n",
      "  warnings.warn(\n"
     ]
    },
    {
     "data": {
      "text/plain": [
       "<AxesSubplot:xlabel='fbs', ylabel='target'>"
      ]
     },
     "execution_count": 12,
     "metadata": {},
     "output_type": "execute_result"
    },
    {
     "data": {
      "image/png": "[encoded data removed]",
      "text/plain": [
       "<Figure size 432x288 with 1 Axes>"
      ]
     },
     "metadata": {
      "needs_background": "light"
     },
     "output_type": "display_data"
    }
   ],
   "source": [
    "# fbs counts\n",
    "sb.barplot(df_heart[\"fbs\"],y)"
   ]
  },
  {
   "cell_type": "code",
   "execution_count": 13,
   "metadata": {
    "_uuid": "ccae9489c2b6e63adb87cef83d367f49ef08a133"
   },
   "outputs": [
    {
     "name": "stderr",
     "output_type": "stream",
     "text": [
      "C:\\Users\\siriv\\anaconda3\\lib\\site-packages\\seaborn\\_decorators.py:36: FutureWarning: Pass the following variables as keyword args: x, y. From version 0.12, the only valid positional argument will be `data`, and passing other arguments without an explicit keyword will result in an error or misinterpretation.\n",
      "  warnings.warn(\n"
     ]
    },
    {
     "data": {
      "text/plain": [
       "<AxesSubplot:xlabel='restecg', ylabel='target'>"
      ]
     },
     "execution_count": 13,
     "metadata": {},
     "output_type": "execute_result"
    },
    {
     "data": {
      "image/png": "[encoded data removed]",
      "text/plain": [
       "<Figure size 432x288 with 1 Axes>"
      ]
     },
     "metadata": {
      "needs_background": "light"
     },
     "output_type": "display_data"
    }
   ],
   "source": [
    "# restecg counts\n",
    "sb.barplot(df_heart[\"restecg\"],y)"
   ]
  },
  {
   "cell_type": "code",
   "execution_count": 14,
   "metadata": {
    "_uuid": "237a60a2a11dab86e50cafcee4ec47df752876a1"
   },
   "outputs": [
    {
     "name": "stderr",
     "output_type": "stream",
     "text": [
      "C:\\Users\\siriv\\anaconda3\\lib\\site-packages\\seaborn\\_decorators.py:36: FutureWarning: Pass the following variables as keyword args: x, y. From version 0.12, the only valid positional argument will be `data`, and passing other arguments without an explicit keyword will result in an error or misinterpretation.\n",
      "  warnings.warn(\n"
     ]
    },
    {
     "data": {
      "text/plain": [
       "<AxesSubplot:xlabel='exang', ylabel='target'>"
      ]
     },
     "execution_count": 14,
     "metadata": {},
     "output_type": "execute_result"
    },
    {
     "data": {
      "image/png": "[encoded data removed]",
      "text/plain": [
       "<Figure size 432x288 with 1 Axes>"
      ]
     },
     "metadata": {
      "needs_background": "light"
     },
     "output_type": "display_data"
    }
   ],
   "source": [
    "# exang counts\n",
    "sb.barplot(df_heart[\"exang\"],y)"
   ]
  },
  {
   "cell_type": "code",
   "execution_count": 15,
   "metadata": {
    "_uuid": "beaa943c166b3c550fe357e6e937dbda46b707c9"
   },
   "outputs": [
    {
     "name": "stderr",
     "output_type": "stream",
     "text": [
      "C:\\Users\\siriv\\anaconda3\\lib\\site-packages\\seaborn\\_decorators.py:36: FutureWarning: Pass the following variables as keyword args: x, y. From version 0.12, the only valid positional argument will be `data`, and passing other arguments without an explicit keyword will result in an error or misinterpretation.\n",
      "  warnings.warn(\n"
     ]
    },
    {
     "data": {
      "text/plain": [
       "<AxesSubplot:xlabel='slope', ylabel='target'>"
      ]
     },
     "execution_count": 15,
     "metadata": {},
     "output_type": "execute_result"
    },
    {
     "data": {
      "image/png": "[encoded data removed]",
      "text/plain": [
       "<Figure size 432x288 with 1 Axes>"
      ]
     },
     "metadata": {
      "needs_background": "light"
     },
     "output_type": "display_data"
    }
   ],
   "source": [
    "# slope counts\n",
    "sb.barplot(df_heart[\"slope\"],y)"
   ]
  },
  {
   "cell_type": "code",
   "execution_count": 16,
   "metadata": {
    "_uuid": "f463859906d0287c68152ebe3cadc241e569802c"
   },
   "outputs": [
    {
     "name": "stderr",
     "output_type": "stream",
     "text": [
      "C:\\Users\\siriv\\anaconda3\\lib\\site-packages\\seaborn\\_decorators.py:36: FutureWarning: Pass the following variable as a keyword arg: x. From version 0.12, the only valid positional argument will be `data`, and passing other arguments without an explicit keyword will result in an error or misinterpretation.\n",
      "  warnings.warn(\n"
     ]
    },
    {
     "data": {
      "text/plain": [
       "<AxesSubplot:xlabel='ca', ylabel='count'>"
      ]
     },
     "execution_count": 16,
     "metadata": {},
     "output_type": "execute_result"
    },
    {
     "data": {
      "image/png": "[encoded data removed]",
      "text/plain": [
       "<Figure size 432x288 with 1 Axes>"
      ]
     },
     "metadata": {
      "needs_background": "light"
     },
     "output_type": "display_data"
    }
   ],
   "source": [
    "# ca counts\n",
    "sb.countplot(df_heart[\"ca\"])"
   ]
  },
  {
   "cell_type": "code",
   "execution_count": 17,
   "metadata": {
    "_uuid": "08947d9c4b05d68b2fe5ae70e33566063c44f8d4"
   },
   "outputs": [
    {
     "name": "stderr",
     "output_type": "stream",
     "text": [
      "C:\\Users\\siriv\\anaconda3\\lib\\site-packages\\seaborn\\_decorators.py:36: FutureWarning: Pass the following variables as keyword args: x, y. From version 0.12, the only valid positional argument will be `data`, and passing other arguments without an explicit keyword will result in an error or misinterpretation.\n",
      "  warnings.warn(\n"
     ]
    },
    {
     "data": {
      "text/plain": [
       "<AxesSubplot:xlabel='thal', ylabel='target'>"
      ]
     },
     "execution_count": 17,
     "metadata": {},
     "output_type": "execute_result"
    },
    {
     "data": {
      "image/png": "[encoded data removed]",
      "text/plain": [
       "<Figure size 432x288 with 1 Axes>"
      ]
     },
     "metadata": {
      "needs_background": "light"
     },
     "output_type": "display_data"
    }
   ],
   "source": [
    "# thal counts\n",
    "sb.barplot(df_heart[\"thal\"],y)"
   ]
  },
  {
   "cell_type": "markdown",
   "metadata": {
    "_uuid": "d1c95f2180e264978c85703ece34898dab4d522b"
   },
   "source": [
    "## Dividing the data into  Train and Test set"
   ]
  },
  {
   "cell_type": "code",
   "execution_count": 18,
   "metadata": {
    "_uuid": "829fcda5b63e1b9f7ecb7762e8ca617166533aca"
   },
   "outputs": [],
   "source": [
    "from sklearn.model_selection import train_test_split\n",
    "\n",
    "predictors = df_heart.drop(\"target\",axis=1)\n",
    "target = df_heart[\"target\"]\n",
    "\n",
    "X_input,X_output,Y_input,Y_output = train_test_split(predictors,target,test_size=0.20,random_state=0)"
   ]
  },
  {
   "cell_type": "code",
   "execution_count": 19,
   "metadata": {
    "_uuid": "7a74842015c2f193d16caa4fa25e2c4cbf1940f8"
   },
   "outputs": [
    {
     "data": {
      "text/plain": [
       "(242, 13)"
      ]
     },
     "execution_count": 19,
     "metadata": {},
     "output_type": "execute_result"
    }
   ],
   "source": [
    "X_input.shape"
   ]
  },
  {
   "cell_type": "code",
   "execution_count": 20,
   "metadata": {
    "_uuid": "1f777652df4521deb877dac4d5d635d8cd35b279"
   },
   "outputs": [
    {
     "data": {
      "text/plain": [
       "(61, 13)"
      ]
     },
     "execution_count": 20,
     "metadata": {},
     "output_type": "execute_result"
    }
   ],
   "source": [
    "X_output.shape"
   ]
  },
  {
   "cell_type": "code",
   "execution_count": 21,
   "metadata": {
    "_uuid": "028c968a076840657faf7dbc3bfee9fe7b5ca45a"
   },
   "outputs": [
    {
     "data": {
      "text/plain": [
       "(242,)"
      ]
     },
     "execution_count": 21,
     "metadata": {},
     "output_type": "execute_result"
    }
   ],
   "source": [
    "Y_input.shape"
   ]
  },
  {
   "cell_type": "code",
   "execution_count": 22,
   "metadata": {
    "_uuid": "eb6857dfc18da52dae38bec95d20106f39136e61"
   },
   "outputs": [
    {
     "data": {
      "text/plain": [
       "(61,)"
      ]
     },
     "execution_count": 22,
     "metadata": {},
     "output_type": "execute_result"
    }
   ],
   "source": [
    "Y_output.shape"
   ]
  },
  {
   "cell_type": "markdown",
   "metadata": {
    "_uuid": "3b4f28488a92917f26e9876c1880295ec9c077ed"
   },
   "source": [
    "##  Model Building"
   ]
  },
  {
   "cell_type": "code",
   "execution_count": 23,
   "metadata": {
    "_uuid": "fe363c1be8335a48a4444660db5fa6bd0a24b71a"
   },
   "outputs": [],
   "source": [
    "from sklearn.metrics import accuracy_score"
   ]
  },
  {
   "cell_type": "markdown",
   "metadata": {
    "_uuid": "afa6b322cbc225f3353bd295aea24fe5fbbb78fe"
   },
   "source": [
    "### Logistic Regression"
   ]
  },
  {
   "cell_type": "code",
   "execution_count": 24,
   "metadata": {
    "_uuid": "9aea2f597203ccf38cd0d67ae58bff6e163dea1c"
   },
   "outputs": [
    {
     "name": "stderr",
     "output_type": "stream",
     "text": [
      "C:\\Users\\siriv\\anaconda3\\lib\\site-packages\\sklearn\\linear_model\\_logistic.py:814: ConvergenceWarning: lbfgs failed to converge (status=1):\n",
      "STOP: TOTAL NO. of ITERATIONS REACHED LIMIT.\n",
      "\n",
      "Increase the number of iterations (max_iter) or scale the data as shown in:\n",
      "    https://scikit-learn.org/stable/modules/preprocessing.html\n",
      "Please also refer to the documentation for alternative solver options:\n",
      "    https://scikit-learn.org/stable/modules/linear_model.html#logistic-regression\n",
      "  n_iter_i = _check_optimize_result(\n"
     ]
    }
   ],
   "source": [
    "from sklearn.linear_model import LogisticRegression\n",
    "\n",
    "linear_reg = LogisticRegression()\n",
    "linear_reg.fit(X_input,Y_input)\n",
    "linear_reg_pred = linear_reg.predict(X_output)"
   ]
  },
  {
   "cell_type": "code",
   "execution_count": 25,
   "metadata": {
    "_uuid": "58fb833d1c74355ebdafe926968632942f377421"
   },
   "outputs": [
    {
     "data": {
      "text/plain": [
       "(61,)"
      ]
     },
     "execution_count": 25,
     "metadata": {},
     "output_type": "execute_result"
    }
   ],
   "source": [
    "linear_reg_pred.shape"
   ]
  },
  {
   "cell_type": "code",
   "execution_count": 26,
   "metadata": {
    "_uuid": "ee4cba838316adf863f8daf131d36a970d36b839"
   },
   "outputs": [
    {
     "name": "stdout",
     "output_type": "stream",
     "text": [
      "LR accuracy: 85.25 %\n"
     ]
    }
   ],
   "source": [
    "linear_score = round(accuracy_score(linear_reg_pred,Y_output)*100,2)\n",
    "\n",
    "print(\"LR accuracy: \"+str(linear_score)+\" %\")"
   ]
  },
  {
   "cell_type": "markdown",
   "metadata": {
    "_uuid": "4e26d165b57f3f7882570964f1c2dc4a548404de"
   },
   "source": [
    "### K Nearest Neighbors"
   ]
  },
  {
   "cell_type": "code",
   "execution_count": 27,
   "metadata": {
    "_uuid": "286352867c53d5fb7dac2fc9bf4b2ac58a466ad0"
   },
   "outputs": [],
   "source": [
    "from sklearn.neighbors import KNeighborsClassifier\n",
    "\n",
    "knn_model = KNeighborsClassifier(n_neighbors=7)\n",
    "knn_model.fit(X_input,Y_input)\n",
    "knn_pred=knn_model.predict(X_output)"
   ]
  },
  {
   "cell_type": "code",
   "execution_count": 28,
   "metadata": {
    "_uuid": "bccb7c1fcec36dd2eb7eb222f49604029adec2b4"
   },
   "outputs": [
    {
     "data": {
      "text/plain": [
       "(61,)"
      ]
     },
     "execution_count": 28,
     "metadata": {},
     "output_type": "execute_result"
    }
   ],
   "source": [
    "knn_pred.shape"
   ]
  },
  {
   "cell_type": "code",
   "execution_count": 29,
   "metadata": {
    "_uuid": "dda4e8f8f18f96557cdd38cee177de0456db5f45"
   },
   "outputs": [
    {
     "name": "stdout",
     "output_type": "stream",
     "text": [
      "The accuracy score achieved using KNN is: 67.21 %\n"
     ]
    }
   ],
   "source": [
    "knn_accuracy = round(accuracy_score(knn_pred,Y_output)*100,2)\n",
    "\n",
    "print(\"The accuracy score achieved using KNN is: \"+str(knn_accuracy)+\" %\")"
   ]
  },
  {
   "cell_type": "markdown",
   "metadata": {
    "_uuid": "abb767170c662e4d9a8b240fd0fd7286ffb0b67f"
   },
   "source": [
    "### Decision Tree"
   ]
  },
  {
   "cell_type": "code",
   "execution_count": 30,
   "metadata": {
    "_uuid": "8c141316764dce80103d1879c9b17d853702a746"
   },
   "outputs": [],
   "source": [
    "from sklearn.tree import DecisionTreeClassifier\n",
    "\n",
    "dt_model = DecisionTreeClassifier()\n",
    "dt_model.fit(X_input,Y_input)\n",
    "dt_pred = dt_model.predict(X_output)"
   ]
  },
  {
   "cell_type": "code",
   "execution_count": 31,
   "metadata": {
    "_uuid": "8de0bd2d57abd24d3a97a5b020a24439eb106f2b"
   },
   "outputs": [
    {
     "name": "stdout",
     "output_type": "stream",
     "text": [
      "(61,)\n"
     ]
    }
   ],
   "source": [
    "print(dt_pred.shape)"
   ]
  },
  {
   "cell_type": "code",
   "execution_count": 32,
   "metadata": {
    "_uuid": "52ab93482d3b53824e9bc2b3e4114c57253e0c5b"
   },
   "outputs": [
    {
     "name": "stdout",
     "output_type": "stream",
     "text": [
      "Decision Tree accuracy is: 75.41 %\n"
     ]
    }
   ],
   "source": [
    "dt_accuracy = round(accuracy_score(dt_pred,Y_output)*100,2)\n",
    "\n",
    "print(\"Decision Tree accuracy is: \"+str(dt_accuracy)+\" %\")"
   ]
  },
  {
   "cell_type": "markdown",
   "metadata": {
    "_uuid": "9e663d26efb00a434751f06ad0292949eff6c358"
   },
   "source": [
    "### Random Forest"
   ]
  },
  {
   "cell_type": "code",
   "execution_count": 33,
   "metadata": {
    "_uuid": "8284f5222cf90be1bcd37887c45f91cf22ed1193"
   },
   "outputs": [],
   "source": [
    "from sklearn.ensemble import RandomForestClassifier\n",
    "rf_model = RandomForestClassifier()\n",
    "rf_model.fit(X_input,Y_input)\n",
    "rf_pred = rf_model.predict(X_output)"
   ]
  },
  {
   "cell_type": "code",
   "execution_count": 34,
   "metadata": {
    "_uuid": "edc8e1cbb57be0aa9e9ad5f4997212d53a9a4c99"
   },
   "outputs": [
    {
     "data": {
      "text/plain": [
       "(61,)"
      ]
     },
     "execution_count": 34,
     "metadata": {},
     "output_type": "execute_result"
    }
   ],
   "source": [
    "rf_pred.shape"
   ]
  },
  {
   "cell_type": "code",
   "execution_count": 35,
   "metadata": {
    "_uuid": "965228f30e05e07e7960a3375dc7dc85b49caed7"
   },
   "outputs": [
    {
     "name": "stdout",
     "output_type": "stream",
     "text": [
      "rf accuracy is: 85.25 %\n"
     ]
    }
   ],
   "source": [
    "rf_accuracy = round(accuracy_score(rf_pred,Y_output)*100,2)\n",
    "\n",
    "print(\"rf accuracy is: \"+str(rf_accuracy)+\" %\")"
   ]
  },
  {
   "cell_type": "code",
   "execution_count": 36,
   "metadata": {},
   "outputs": [],
   "source": [
    "#!pip install tensorflow"
   ]
  },
  {
   "cell_type": "markdown",
   "metadata": {},
   "source": [
    "### Neural Network "
   ]
  },
  {
   "cell_type": "code",
   "execution_count": 37,
   "metadata": {},
   "outputs": [],
   "source": [
    "from keras.models import Sequential\n",
    "from keras.layers import Dense"
   ]
  },
  {
   "cell_type": "code",
   "execution_count": 38,
   "metadata": {},
   "outputs": [],
   "source": [
    "nn_model = Sequential()\n",
    "nn_model.add(Dense(11,activation='relu',input_dim=13))\n",
    "nn_model.add(Dense(1,activation='sigmoid'))\n",
    "nn_model.compile(loss='binary_crossentropy',optimizer='adam',metrics=['accuracy'])"
   ]
  },
  {
   "cell_type": "code",
   "execution_count": 39,
   "metadata": {},
   "outputs": [
    {
     "name": "stdout",
     "output_type": "stream",
     "text": [
      "Epoch 1/300\n",
      "8/8 [==============================] - 1s 2ms/step - loss: 83.9737 - accuracy: 0.5413\n",
      "Epoch 2/300\n",
      "8/8 [==============================] - 0s 1ms/step - loss: 78.6581 - accuracy: 0.5413\n",
      "Epoch 3/300\n",
      "8/8 [==============================] - 0s 1ms/step - loss: 73.0289 - accuracy: 0.5413\n",
      "Epoch 4/300\n",
      "8/8 [==============================] - 0s 1ms/step - loss: 66.8259 - accuracy: 0.5413\n",
      "Epoch 5/300\n",
      "8/8 [==============================] - 0s 1ms/step - loss: 60.5899 - accuracy: 0.5413\n",
      "Epoch 6/300\n",
      "8/8 [==============================] - 0s 1ms/step - loss: 54.5216 - accuracy: 0.5413\n",
      "Epoch 7/300\n",
      "8/8 [==============================] - 0s 2ms/step - loss: 48.3742 - accuracy: 0.5413\n",
      "Epoch 8/300\n",
      "8/8 [==============================] - 0s 1ms/step - loss: 42.4892 - accuracy: 0.5413\n",
      "Epoch 9/300\n",
      "8/8 [==============================] - 0s 1ms/step - loss: 36.8081 - accuracy: 0.5413\n",
      "Epoch 10/300\n",
      "8/8 [==============================] - 0s 1ms/step - loss: 31.2595 - accuracy: 0.5413\n",
      "Epoch 11/300\n",
      "8/8 [==============================] - 0s 1ms/step - loss: 25.8799 - accuracy: 0.5413\n",
      "Epoch 12/300\n",
      "8/8 [==============================] - 0s 1ms/step - loss: 20.4702 - accuracy: 0.5413\n",
      "Epoch 13/300\n",
      "8/8 [==============================] - 0s 1ms/step - loss: 15.2764 - accuracy: 0.5413\n",
      "Epoch 14/300\n",
      "8/8 [==============================] - 0s 1ms/step - loss: 10.0990 - accuracy: 0.5413\n",
      "Epoch 15/300\n",
      "8/8 [==============================] - 0s 1ms/step - loss: 5.0592 - accuracy: 0.5413\n",
      "Epoch 16/300\n",
      "8/8 [==============================] - 0s 1ms/step - loss: 1.4888 - accuracy: 0.5702\n",
      "Epoch 17/300\n",
      "8/8 [==============================] - 0s 1ms/step - loss: 1.9624 - accuracy: 0.5124\n",
      "Epoch 18/300\n",
      "8/8 [==============================] - 0s 2ms/step - loss: 1.4374 - accuracy: 0.5496\n",
      "Epoch 19/300\n",
      "8/8 [==============================] - 0s 2ms/step - loss: 1.2636 - accuracy: 0.6240\n",
      "Epoch 20/300\n",
      "8/8 [==============================] - 0s 1ms/step - loss: 1.2476 - accuracy: 0.6281\n",
      "Epoch 21/300\n",
      "8/8 [==============================] - 0s 1ms/step - loss: 1.1911 - accuracy: 0.6198\n",
      "Epoch 22/300\n",
      "8/8 [==============================] - 0s 2ms/step - loss: 1.1833 - accuracy: 0.6033\n",
      "Epoch 23/300\n",
      "8/8 [==============================] - 0s 2ms/step - loss: 1.1711 - accuracy: 0.6116\n",
      "Epoch 24/300\n",
      "8/8 [==============================] - 0s 2ms/step - loss: 1.1589 - accuracy: 0.6157\n",
      "Epoch 25/300\n",
      "8/8 [==============================] - 0s 2ms/step - loss: 1.1455 - accuracy: 0.6198\n",
      "Epoch 26/300\n",
      "8/8 [==============================] - 0s 2ms/step - loss: 1.1363 - accuracy: 0.6157\n",
      "Epoch 27/300\n",
      "8/8 [==============================] - 0s 2ms/step - loss: 1.1364 - accuracy: 0.6074\n",
      "Epoch 28/300\n",
      "8/8 [==============================] - 0s 2ms/step - loss: 1.1172 - accuracy: 0.6157\n",
      "Epoch 29/300\n",
      "8/8 [==============================] - 0s 2ms/step - loss: 1.1074 - accuracy: 0.6116\n",
      "Epoch 30/300\n",
      "8/8 [==============================] - 0s 2ms/step - loss: 1.1016 - accuracy: 0.6157\n",
      "Epoch 31/300\n",
      "8/8 [==============================] - 0s 2ms/step - loss: 1.0895 - accuracy: 0.6240\n",
      "Epoch 32/300\n",
      "8/8 [==============================] - 0s 2ms/step - loss: 1.0807 - accuracy: 0.6240\n",
      "Epoch 33/300\n",
      "8/8 [==============================] - 0s 2ms/step - loss: 1.0831 - accuracy: 0.6074\n",
      "Epoch 34/300\n",
      "8/8 [==============================] - 0s 2ms/step - loss: 1.0738 - accuracy: 0.6240\n",
      "Epoch 35/300\n",
      "8/8 [==============================] - 0s 2ms/step - loss: 1.0523 - accuracy: 0.6198\n",
      "Epoch 36/300\n",
      "8/8 [==============================] - 0s 1ms/step - loss: 1.0516 - accuracy: 0.6116\n",
      "Epoch 37/300\n",
      "8/8 [==============================] - 0s 2ms/step - loss: 1.0463 - accuracy: 0.6198\n",
      "Epoch 38/300\n",
      "8/8 [==============================] - 0s 2ms/step - loss: 1.0229 - accuracy: 0.6281\n",
      "Epoch 39/300\n",
      "8/8 [==============================] - 0s 2ms/step - loss: 1.0435 - accuracy: 0.5909\n",
      "Epoch 40/300\n",
      "8/8 [==============================] - 0s 2ms/step - loss: 0.9964 - accuracy: 0.6198\n",
      "Epoch 41/300\n",
      "8/8 [==============================] - 0s 2ms/step - loss: 1.0062 - accuracy: 0.6240\n",
      "Epoch 42/300\n",
      "8/8 [==============================] - 0s 2ms/step - loss: 1.0062 - accuracy: 0.6240\n",
      "Epoch 43/300\n",
      "8/8 [==============================] - 0s 2ms/step - loss: 0.9746 - accuracy: 0.6198\n",
      "Epoch 44/300\n",
      "8/8 [==============================] - 0s 2ms/step - loss: 0.9815 - accuracy: 0.6322\n",
      "Epoch 45/300\n",
      "8/8 [==============================] - 0s 2ms/step - loss: 0.9502 - accuracy: 0.6364\n",
      "Epoch 46/300\n",
      "8/8 [==============================] - 0s 2ms/step - loss: 0.9652 - accuracy: 0.6157\n",
      "Epoch 47/300\n",
      "8/8 [==============================] - 0s 2ms/step - loss: 0.9453 - accuracy: 0.6446\n",
      "Epoch 48/300\n",
      "8/8 [==============================] - 0s 2ms/step - loss: 0.9392 - accuracy: 0.6405\n",
      "Epoch 49/300\n",
      "8/8 [==============================] - 0s 2ms/step - loss: 0.9262 - accuracy: 0.6281\n",
      "Epoch 50/300\n",
      "8/8 [==============================] - 0s 2ms/step - loss: 0.9248 - accuracy: 0.6364\n",
      "Epoch 51/300\n",
      "8/8 [==============================] - 0s 2ms/step - loss: 0.9135 - accuracy: 0.6240\n",
      "Epoch 52/300\n",
      "8/8 [==============================] - 0s 2ms/step - loss: 0.9010 - accuracy: 0.6364\n",
      "Epoch 53/300\n",
      "8/8 [==============================] - 0s 3ms/step - loss: 0.8957 - accuracy: 0.6322\n",
      "Epoch 54/300\n",
      "8/8 [==============================] - 0s 2ms/step - loss: 0.8958 - accuracy: 0.6405\n",
      "Epoch 55/300\n",
      "8/8 [==============================] - 0s 2ms/step - loss: 0.8770 - accuracy: 0.6488\n",
      "Epoch 56/300\n",
      "8/8 [==============================] - 0s 2ms/step - loss: 0.8754 - accuracy: 0.6570\n",
      "Epoch 57/300\n",
      "8/8 [==============================] - 0s 1ms/step - loss: 0.8658 - accuracy: 0.6446\n",
      "Epoch 58/300\n",
      "8/8 [==============================] - 0s 1ms/step - loss: 0.8550 - accuracy: 0.6570\n",
      "Epoch 59/300\n",
      "8/8 [==============================] - 0s 2ms/step - loss: 0.8493 - accuracy: 0.6612\n",
      "Epoch 60/300\n",
      "8/8 [==============================] - 0s 2ms/step - loss: 0.8410 - accuracy: 0.6570\n",
      "Epoch 61/300\n",
      "8/8 [==============================] - 0s 1ms/step - loss: 0.8353 - accuracy: 0.6529\n",
      "Epoch 62/300\n",
      "8/8 [==============================] - 0s 2ms/step - loss: 0.8249 - accuracy: 0.6570\n",
      "Epoch 63/300\n",
      "8/8 [==============================] - 0s 2ms/step - loss: 0.8187 - accuracy: 0.6612\n",
      "Epoch 64/300\n",
      "8/8 [==============================] - 0s 2ms/step - loss: 0.8107 - accuracy: 0.6612\n",
      "Epoch 65/300\n",
      "8/8 [==============================] - 0s 2ms/step - loss: 0.8044 - accuracy: 0.6612\n",
      "Epoch 66/300\n",
      "8/8 [==============================] - 0s 2ms/step - loss: 0.7999 - accuracy: 0.6818\n",
      "Epoch 67/300\n",
      "8/8 [==============================] - 0s 2ms/step - loss: 0.7866 - accuracy: 0.6612\n",
      "Epoch 68/300\n",
      "8/8 [==============================] - 0s 2ms/step - loss: 0.7927 - accuracy: 0.6488\n",
      "Epoch 69/300\n",
      "8/8 [==============================] - 0s 2ms/step - loss: 0.7729 - accuracy: 0.6818\n",
      "Epoch 70/300\n",
      "8/8 [==============================] - 0s 2ms/step - loss: 0.7762 - accuracy: 0.6694\n",
      "Epoch 71/300\n",
      "8/8 [==============================] - 0s 2ms/step - loss: 0.7592 - accuracy: 0.6612\n",
      "Epoch 72/300\n",
      "8/8 [==============================] - 0s 2ms/step - loss: 0.7483 - accuracy: 0.6653\n",
      "Epoch 73/300\n",
      "8/8 [==============================] - 0s 2ms/step - loss: 0.7462 - accuracy: 0.6694\n",
      "Epoch 74/300\n",
      "8/8 [==============================] - 0s 2ms/step - loss: 0.7330 - accuracy: 0.6942\n",
      "Epoch 75/300\n",
      "8/8 [==============================] - 0s 2ms/step - loss: 0.7241 - accuracy: 0.6860\n",
      "Epoch 76/300\n",
      "8/8 [==============================] - 0s 2ms/step - loss: 0.7210 - accuracy: 0.6736\n",
      "Epoch 77/300\n",
      "8/8 [==============================] - 0s 2ms/step - loss: 0.7228 - accuracy: 0.6818\n",
      "Epoch 78/300\n",
      "8/8 [==============================] - 0s 2ms/step - loss: 0.7290 - accuracy: 0.6818\n",
      "Epoch 79/300\n",
      "8/8 [==============================] - 0s 2ms/step - loss: 0.6887 - accuracy: 0.6942\n",
      "Epoch 80/300\n",
      "8/8 [==============================] - 0s 3ms/step - loss: 0.6997 - accuracy: 0.6901\n",
      "Epoch 81/300\n",
      "8/8 [==============================] - 0s 2ms/step - loss: 0.6773 - accuracy: 0.7066\n",
      "Epoch 82/300\n",
      "8/8 [==============================] - 0s 2ms/step - loss: 0.6718 - accuracy: 0.7066\n",
      "Epoch 83/300\n",
      "8/8 [==============================] - 0s 2ms/step - loss: 0.6733 - accuracy: 0.7066\n",
      "Epoch 84/300\n"
     ]
    },
    {
     "name": "stdout",
     "output_type": "stream",
     "text": [
      "8/8 [==============================] - 0s 2ms/step - loss: 0.6570 - accuracy: 0.7149\n",
      "Epoch 85/300\n",
      "8/8 [==============================] - 0s 2ms/step - loss: 0.6641 - accuracy: 0.6901\n",
      "Epoch 86/300\n",
      "8/8 [==============================] - 0s 2ms/step - loss: 0.6391 - accuracy: 0.7190\n",
      "Epoch 87/300\n",
      "8/8 [==============================] - 0s 2ms/step - loss: 0.6320 - accuracy: 0.7231\n",
      "Epoch 88/300\n",
      "8/8 [==============================] - 0s 2ms/step - loss: 0.6298 - accuracy: 0.7107\n",
      "Epoch 89/300\n",
      "8/8 [==============================] - 0s 2ms/step - loss: 0.6209 - accuracy: 0.7273\n",
      "Epoch 90/300\n",
      "8/8 [==============================] - 0s 2ms/step - loss: 0.6131 - accuracy: 0.7438\n",
      "Epoch 91/300\n",
      "8/8 [==============================] - 0s 2ms/step - loss: 0.6048 - accuracy: 0.7273\n",
      "Epoch 92/300\n",
      "8/8 [==============================] - 0s 2ms/step - loss: 0.6017 - accuracy: 0.7273\n",
      "Epoch 93/300\n",
      "8/8 [==============================] - 0s 2ms/step - loss: 0.5962 - accuracy: 0.7438\n",
      "Epoch 94/300\n",
      "8/8 [==============================] - 0s 2ms/step - loss: 0.5840 - accuracy: 0.7273\n",
      "Epoch 95/300\n",
      "8/8 [==============================] - 0s 2ms/step - loss: 0.5787 - accuracy: 0.7231\n",
      "Epoch 96/300\n",
      "8/8 [==============================] - 0s 2ms/step - loss: 0.5722 - accuracy: 0.7438\n",
      "Epoch 97/300\n",
      "8/8 [==============================] - 0s 2ms/step - loss: 0.5707 - accuracy: 0.7438\n",
      "Epoch 98/300\n",
      "8/8 [==============================] - 0s 2ms/step - loss: 0.5789 - accuracy: 0.7149\n",
      "Epoch 99/300\n",
      "8/8 [==============================] - 0s 2ms/step - loss: 0.5610 - accuracy: 0.7397\n",
      "Epoch 100/300\n",
      "8/8 [==============================] - 0s 2ms/step - loss: 0.5567 - accuracy: 0.7355\n",
      "Epoch 101/300\n",
      "8/8 [==============================] - 0s 2ms/step - loss: 0.5460 - accuracy: 0.7438\n",
      "Epoch 102/300\n",
      "8/8 [==============================] - 0s 2ms/step - loss: 0.5449 - accuracy: 0.7438\n",
      "Epoch 103/300\n",
      "8/8 [==============================] - 0s 2ms/step - loss: 0.5530 - accuracy: 0.7231\n",
      "Epoch 104/300\n",
      "8/8 [==============================] - 0s 2ms/step - loss: 0.5407 - accuracy: 0.7521\n",
      "Epoch 105/300\n",
      "8/8 [==============================] - 0s 2ms/step - loss: 0.5277 - accuracy: 0.7397\n",
      "Epoch 106/300\n",
      "8/8 [==============================] - 0s 1ms/step - loss: 0.5288 - accuracy: 0.7397\n",
      "Epoch 107/300\n",
      "8/8 [==============================] - 0s 1ms/step - loss: 0.5220 - accuracy: 0.7438\n",
      "Epoch 108/300\n",
      "8/8 [==============================] - 0s 1ms/step - loss: 0.5143 - accuracy: 0.7479\n",
      "Epoch 109/300\n",
      "8/8 [==============================] - 0s 1ms/step - loss: 0.5196 - accuracy: 0.7562\n",
      "Epoch 110/300\n",
      "8/8 [==============================] - 0s 1ms/step - loss: 0.5043 - accuracy: 0.7397\n",
      "Epoch 111/300\n",
      "8/8 [==============================] - 0s 1ms/step - loss: 0.5022 - accuracy: 0.7562\n",
      "Epoch 112/300\n",
      "8/8 [==============================] - 0s 1ms/step - loss: 0.4960 - accuracy: 0.7438\n",
      "Epoch 113/300\n",
      "8/8 [==============================] - 0s 1ms/step - loss: 0.4899 - accuracy: 0.7479\n",
      "Epoch 114/300\n",
      "8/8 [==============================] - 0s 1ms/step - loss: 0.4907 - accuracy: 0.7727\n",
      "Epoch 115/300\n",
      "8/8 [==============================] - 0s 1ms/step - loss: 0.4825 - accuracy: 0.7521\n",
      "Epoch 116/300\n",
      "8/8 [==============================] - 0s 1ms/step - loss: 0.4817 - accuracy: 0.7521\n",
      "Epoch 117/300\n",
      "8/8 [==============================] - 0s 1ms/step - loss: 0.4831 - accuracy: 0.7562\n",
      "Epoch 118/300\n",
      "8/8 [==============================] - 0s 1ms/step - loss: 0.4769 - accuracy: 0.7603\n",
      "Epoch 119/300\n",
      "8/8 [==============================] - 0s 1ms/step - loss: 0.4659 - accuracy: 0.7727\n",
      "Epoch 120/300\n",
      "8/8 [==============================] - 0s 1ms/step - loss: 0.4796 - accuracy: 0.7521\n",
      "Epoch 121/300\n",
      "8/8 [==============================] - 0s 1ms/step - loss: 0.4681 - accuracy: 0.7603\n",
      "Epoch 122/300\n",
      "8/8 [==============================] - 0s 1ms/step - loss: 0.4603 - accuracy: 0.7645\n",
      "Epoch 123/300\n",
      "8/8 [==============================] - 0s 1ms/step - loss: 0.4583 - accuracy: 0.7727\n",
      "Epoch 124/300\n",
      "8/8 [==============================] - 0s 1ms/step - loss: 0.4518 - accuracy: 0.7686\n",
      "Epoch 125/300\n",
      "8/8 [==============================] - 0s 1ms/step - loss: 0.4593 - accuracy: 0.7603\n",
      "Epoch 126/300\n",
      "8/8 [==============================] - 0s 2ms/step - loss: 0.4533 - accuracy: 0.7727\n",
      "Epoch 127/300\n",
      "8/8 [==============================] - 0s 1ms/step - loss: 0.4484 - accuracy: 0.7727\n",
      "Epoch 128/300\n",
      "8/8 [==============================] - 0s 2ms/step - loss: 0.4559 - accuracy: 0.7727\n",
      "Epoch 129/300\n",
      "8/8 [==============================] - 0s 1ms/step - loss: 0.4632 - accuracy: 0.7851\n",
      "Epoch 130/300\n",
      "8/8 [==============================] - 0s 1ms/step - loss: 0.4370 - accuracy: 0.7810\n",
      "Epoch 131/300\n",
      "8/8 [==============================] - 0s 1ms/step - loss: 0.4470 - accuracy: 0.7769\n",
      "Epoch 132/300\n",
      "8/8 [==============================] - 0s 1ms/step - loss: 0.4351 - accuracy: 0.7810\n",
      "Epoch 133/300\n",
      "8/8 [==============================] - 0s 2ms/step - loss: 0.4325 - accuracy: 0.7851\n",
      "Epoch 134/300\n",
      "8/8 [==============================] - 0s 1ms/step - loss: 0.4449 - accuracy: 0.7727\n",
      "Epoch 135/300\n",
      "8/8 [==============================] - 0s 2ms/step - loss: 0.4533 - accuracy: 0.7893\n",
      "Epoch 136/300\n",
      "8/8 [==============================] - 0s 2ms/step - loss: 0.4258 - accuracy: 0.7851\n",
      "Epoch 137/300\n",
      "8/8 [==============================] - 0s 1ms/step - loss: 0.4305 - accuracy: 0.7934\n",
      "Epoch 138/300\n",
      "8/8 [==============================] - 0s 2ms/step - loss: 0.4321 - accuracy: 0.7934\n",
      "Epoch 139/300\n",
      "8/8 [==============================] - 0s 2ms/step - loss: 0.4408 - accuracy: 0.7934\n",
      "Epoch 140/300\n",
      "8/8 [==============================] - 0s 1ms/step - loss: 0.4281 - accuracy: 0.7934\n",
      "Epoch 141/300\n",
      "8/8 [==============================] - 0s 1ms/step - loss: 0.4190 - accuracy: 0.7893\n",
      "Epoch 142/300\n",
      "8/8 [==============================] - 0s 2ms/step - loss: 0.4253 - accuracy: 0.8099\n",
      "Epoch 143/300\n",
      "8/8 [==============================] - 0s 2ms/step - loss: 0.4141 - accuracy: 0.7893\n",
      "Epoch 144/300\n",
      "8/8 [==============================] - 0s 2ms/step - loss: 0.4141 - accuracy: 0.8017\n",
      "Epoch 145/300\n",
      "8/8 [==============================] - 0s 2ms/step - loss: 0.4144 - accuracy: 0.8099\n",
      "Epoch 146/300\n",
      "8/8 [==============================] - 0s 2ms/step - loss: 0.4149 - accuracy: 0.8017\n",
      "Epoch 147/300\n",
      "8/8 [==============================] - 0s 2ms/step - loss: 0.4104 - accuracy: 0.8140\n",
      "Epoch 148/300\n",
      "8/8 [==============================] - 0s 1ms/step - loss: 0.4174 - accuracy: 0.7975\n",
      "Epoch 149/300\n",
      "8/8 [==============================] - 0s 1ms/step - loss: 0.4104 - accuracy: 0.8058\n",
      "Epoch 150/300\n",
      "8/8 [==============================] - 0s 1ms/step - loss: 0.4113 - accuracy: 0.8058\n",
      "Epoch 151/300\n",
      "8/8 [==============================] - 0s 1ms/step - loss: 0.4017 - accuracy: 0.8058\n",
      "Epoch 152/300\n",
      "8/8 [==============================] - 0s 2ms/step - loss: 0.4093 - accuracy: 0.8140\n",
      "Epoch 153/300\n",
      "8/8 [==============================] - 0s 2ms/step - loss: 0.4048 - accuracy: 0.8223\n",
      "Epoch 154/300\n",
      "8/8 [==============================] - 0s 1ms/step - loss: 0.4054 - accuracy: 0.8223\n",
      "Epoch 155/300\n",
      "8/8 [==============================] - 0s 2ms/step - loss: 0.4052 - accuracy: 0.8058\n",
      "Epoch 156/300\n",
      "8/8 [==============================] - 0s 2ms/step - loss: 0.4006 - accuracy: 0.8182\n",
      "Epoch 157/300\n",
      "8/8 [==============================] - 0s 2ms/step - loss: 0.4040 - accuracy: 0.8099\n",
      "Epoch 158/300\n",
      "8/8 [==============================] - 0s 1ms/step - loss: 0.4114 - accuracy: 0.8264\n",
      "Epoch 159/300\n",
      "8/8 [==============================] - 0s 2ms/step - loss: 0.4025 - accuracy: 0.8223\n",
      "Epoch 160/300\n",
      "8/8 [==============================] - 0s 2ms/step - loss: 0.3997 - accuracy: 0.8223\n",
      "Epoch 161/300\n",
      "8/8 [==============================] - 0s 2ms/step - loss: 0.3963 - accuracy: 0.8223\n",
      "Epoch 162/300\n",
      "8/8 [==============================] - 0s 2ms/step - loss: 0.4017 - accuracy: 0.8099\n",
      "Epoch 163/300\n",
      "8/8 [==============================] - 0s 2ms/step - loss: 0.3923 - accuracy: 0.8264\n",
      "Epoch 164/300\n",
      "8/8 [==============================] - 0s 2ms/step - loss: 0.3899 - accuracy: 0.8264\n",
      "Epoch 165/300\n",
      "8/8 [==============================] - 0s 2ms/step - loss: 0.3920 - accuracy: 0.8306\n",
      "Epoch 166/300\n",
      "8/8 [==============================] - 0s 1ms/step - loss: 0.3902 - accuracy: 0.8306\n",
      "Epoch 167/300\n"
     ]
    },
    {
     "name": "stdout",
     "output_type": "stream",
     "text": [
      "8/8 [==============================] - 0s 2ms/step - loss: 0.3923 - accuracy: 0.8223\n",
      "Epoch 168/300\n",
      "8/8 [==============================] - 0s 2ms/step - loss: 0.4054 - accuracy: 0.8264\n",
      "Epoch 169/300\n",
      "8/8 [==============================] - 0s 2ms/step - loss: 0.3933 - accuracy: 0.8140\n",
      "Epoch 170/300\n",
      "8/8 [==============================] - 0s 2ms/step - loss: 0.3868 - accuracy: 0.8306\n",
      "Epoch 171/300\n",
      "8/8 [==============================] - 0s 2ms/step - loss: 0.3863 - accuracy: 0.8347\n",
      "Epoch 172/300\n",
      "8/8 [==============================] - 0s 1ms/step - loss: 0.3864 - accuracy: 0.8347\n",
      "Epoch 173/300\n",
      "8/8 [==============================] - 0s 1ms/step - loss: 0.3867 - accuracy: 0.8264\n",
      "Epoch 174/300\n",
      "8/8 [==============================] - 0s 1ms/step - loss: 0.4048 - accuracy: 0.8264\n",
      "Epoch 175/300\n",
      "8/8 [==============================] - 0s 1ms/step - loss: 0.3895 - accuracy: 0.8388\n",
      "Epoch 176/300\n",
      "8/8 [==============================] - 0s 1ms/step - loss: 0.3964 - accuracy: 0.8347\n",
      "Epoch 177/300\n",
      "8/8 [==============================] - 0s 1ms/step - loss: 0.3833 - accuracy: 0.8264\n",
      "Epoch 178/300\n",
      "8/8 [==============================] - 0s 1ms/step - loss: 0.3901 - accuracy: 0.8306\n",
      "Epoch 179/300\n",
      "8/8 [==============================] - 0s 1ms/step - loss: 0.3883 - accuracy: 0.8347\n",
      "Epoch 180/300\n",
      "8/8 [==============================] - 0s 2ms/step - loss: 0.3822 - accuracy: 0.8306\n",
      "Epoch 181/300\n",
      "8/8 [==============================] - 0s 1ms/step - loss: 0.3781 - accuracy: 0.8512\n",
      "Epoch 182/300\n",
      "8/8 [==============================] - 0s 1ms/step - loss: 0.3978 - accuracy: 0.8264\n",
      "Epoch 183/300\n",
      "8/8 [==============================] - 0s 2ms/step - loss: 0.4043 - accuracy: 0.8140\n",
      "Epoch 184/300\n",
      "8/8 [==============================] - 0s 1ms/step - loss: 0.3955 - accuracy: 0.8182\n",
      "Epoch 185/300\n",
      "8/8 [==============================] - 0s 1ms/step - loss: 0.3824 - accuracy: 0.8347\n",
      "Epoch 186/300\n",
      "8/8 [==============================] - 0s 1ms/step - loss: 0.3763 - accuracy: 0.8471\n",
      "Epoch 187/300\n",
      "8/8 [==============================] - 0s 1ms/step - loss: 0.3927 - accuracy: 0.8223\n",
      "Epoch 188/300\n",
      "8/8 [==============================] - 0s 1ms/step - loss: 0.3926 - accuracy: 0.8264\n",
      "Epoch 189/300\n",
      "8/8 [==============================] - 0s 1ms/step - loss: 0.3862 - accuracy: 0.8099\n",
      "Epoch 190/300\n",
      "8/8 [==============================] - 0s 1ms/step - loss: 0.3771 - accuracy: 0.8388\n",
      "Epoch 191/300\n",
      "8/8 [==============================] - 0s 2ms/step - loss: 0.3759 - accuracy: 0.8306\n",
      "Epoch 192/300\n",
      "8/8 [==============================] - 0s 1ms/step - loss: 0.3769 - accuracy: 0.8430\n",
      "Epoch 193/300\n",
      "8/8 [==============================] - 0s 2ms/step - loss: 0.3763 - accuracy: 0.8471\n",
      "Epoch 194/300\n",
      "8/8 [==============================] - 0s 1ms/step - loss: 0.3741 - accuracy: 0.8430\n",
      "Epoch 195/300\n",
      "8/8 [==============================] - 0s 2ms/step - loss: 0.3748 - accuracy: 0.8512\n",
      "Epoch 196/300\n",
      "8/8 [==============================] - 0s 2ms/step - loss: 0.3821 - accuracy: 0.8223\n",
      "Epoch 197/300\n",
      "8/8 [==============================] - 0s 2ms/step - loss: 0.3958 - accuracy: 0.8182\n",
      "Epoch 198/300\n",
      "8/8 [==============================] - 0s 2ms/step - loss: 0.3841 - accuracy: 0.8264\n",
      "Epoch 199/300\n",
      "8/8 [==============================] - 0s 2ms/step - loss: 0.3768 - accuracy: 0.8347\n",
      "Epoch 200/300\n",
      "8/8 [==============================] - 0s 1ms/step - loss: 0.3721 - accuracy: 0.8430\n",
      "Epoch 201/300\n",
      "8/8 [==============================] - 0s 2ms/step - loss: 0.3724 - accuracy: 0.8388\n",
      "Epoch 202/300\n",
      "8/8 [==============================] - 0s 1ms/step - loss: 0.3718 - accuracy: 0.8430\n",
      "Epoch 203/300\n",
      "8/8 [==============================] - 0s 1ms/step - loss: 0.3720 - accuracy: 0.8306\n",
      "Epoch 204/300\n",
      "8/8 [==============================] - 0s 1ms/step - loss: 0.3692 - accuracy: 0.8430\n",
      "Epoch 205/300\n",
      "8/8 [==============================] - 0s 1ms/step - loss: 0.3707 - accuracy: 0.8388\n",
      "Epoch 206/300\n",
      "8/8 [==============================] - 0s 1ms/step - loss: 0.3737 - accuracy: 0.8388\n",
      "Epoch 207/300\n",
      "8/8 [==============================] - 0s 1ms/step - loss: 0.3771 - accuracy: 0.8306\n",
      "Epoch 208/300\n",
      "8/8 [==============================] - 0s 1ms/step - loss: 0.3741 - accuracy: 0.8430\n",
      "Epoch 209/300\n",
      "8/8 [==============================] - 0s 2ms/step - loss: 0.3702 - accuracy: 0.8471\n",
      "Epoch 210/300\n",
      "8/8 [==============================] - 0s 2ms/step - loss: 0.3704 - accuracy: 0.8347\n",
      "Epoch 211/300\n",
      "8/8 [==============================] - 0s 1ms/step - loss: 0.3692 - accuracy: 0.8388\n",
      "Epoch 212/300\n",
      "8/8 [==============================] - 0s 2ms/step - loss: 0.3702 - accuracy: 0.8388\n",
      "Epoch 213/300\n",
      "8/8 [==============================] - 0s 2ms/step - loss: 0.3690 - accuracy: 0.8388\n",
      "Epoch 214/300\n",
      "8/8 [==============================] - 0s 2ms/step - loss: 0.3719 - accuracy: 0.8306\n",
      "Epoch 215/300\n",
      "8/8 [==============================] - 0s 2ms/step - loss: 0.3682 - accuracy: 0.8347\n",
      "Epoch 216/300\n",
      "8/8 [==============================] - 0s 1ms/step - loss: 0.3694 - accuracy: 0.8471\n",
      "Epoch 217/300\n",
      "8/8 [==============================] - 0s 2ms/step - loss: 0.3724 - accuracy: 0.8471\n",
      "Epoch 218/300\n",
      "8/8 [==============================] - 0s 2ms/step - loss: 0.3662 - accuracy: 0.8388\n",
      "Epoch 219/300\n",
      "8/8 [==============================] - 0s 2ms/step - loss: 0.3693 - accuracy: 0.8388\n",
      "Epoch 220/300\n",
      "8/8 [==============================] - 0s 1ms/step - loss: 0.3914 - accuracy: 0.8306\n",
      "Epoch 221/300\n",
      "8/8 [==============================] - 0s 2ms/step - loss: 0.3732 - accuracy: 0.8388\n",
      "Epoch 222/300\n",
      "8/8 [==============================] - 0s 2ms/step - loss: 0.4018 - accuracy: 0.8223\n",
      "Epoch 223/300\n",
      "8/8 [==============================] - 0s 1ms/step - loss: 0.3855 - accuracy: 0.8223\n",
      "Epoch 224/300\n",
      "8/8 [==============================] - 0s 1ms/step - loss: 0.3692 - accuracy: 0.8347\n",
      "Epoch 225/300\n",
      "8/8 [==============================] - 0s 2ms/step - loss: 0.3785 - accuracy: 0.8430\n",
      "Epoch 226/300\n",
      "8/8 [==============================] - 0s 2ms/step - loss: 0.3764 - accuracy: 0.8471\n",
      "Epoch 227/300\n",
      "8/8 [==============================] - 0s 2ms/step - loss: 0.3655 - accuracy: 0.8347\n",
      "Epoch 228/300\n",
      "8/8 [==============================] - 0s 2ms/step - loss: 0.3736 - accuracy: 0.8430\n",
      "Epoch 229/300\n",
      "8/8 [==============================] - 0s 1ms/step - loss: 0.3657 - accuracy: 0.8471\n",
      "Epoch 230/300\n",
      "8/8 [==============================] - 0s 2ms/step - loss: 0.3790 - accuracy: 0.8223\n",
      "Epoch 231/300\n",
      "8/8 [==============================] - 0s 2ms/step - loss: 0.3785 - accuracy: 0.8306\n",
      "Epoch 232/300\n",
      "8/8 [==============================] - 0s 2ms/step - loss: 0.3745 - accuracy: 0.8347\n",
      "Epoch 233/300\n",
      "8/8 [==============================] - 0s 1ms/step - loss: 0.3726 - accuracy: 0.8264\n",
      "Epoch 234/300\n",
      "8/8 [==============================] - 0s 1ms/step - loss: 0.3692 - accuracy: 0.8388\n",
      "Epoch 235/300\n",
      "8/8 [==============================] - 0s 1ms/step - loss: 0.3681 - accuracy: 0.8388\n",
      "Epoch 236/300\n",
      "8/8 [==============================] - 0s 1ms/step - loss: 0.3718 - accuracy: 0.8347\n",
      "Epoch 237/300\n",
      "8/8 [==============================] - 0s 1ms/step - loss: 0.3687 - accuracy: 0.8512\n",
      "Epoch 238/300\n",
      "8/8 [==============================] - 0s 2ms/step - loss: 0.3698 - accuracy: 0.8430\n",
      "Epoch 239/300\n",
      "8/8 [==============================] - 0s 1ms/step - loss: 0.3689 - accuracy: 0.8471\n",
      "Epoch 240/300\n",
      "8/8 [==============================] - 0s 1ms/step - loss: 0.3656 - accuracy: 0.8388\n",
      "Epoch 241/300\n",
      "8/8 [==============================] - 0s 1ms/step - loss: 0.3655 - accuracy: 0.8471\n",
      "Epoch 242/300\n",
      "8/8 [==============================] - 0s 1ms/step - loss: 0.3636 - accuracy: 0.8347\n",
      "Epoch 243/300\n",
      "8/8 [==============================] - 0s 1ms/step - loss: 0.3641 - accuracy: 0.8388\n",
      "Epoch 244/300\n",
      "8/8 [==============================] - 0s 1ms/step - loss: 0.3718 - accuracy: 0.8388\n",
      "Epoch 245/300\n",
      "8/8 [==============================] - 0s 2ms/step - loss: 0.3766 - accuracy: 0.8264\n",
      "Epoch 246/300\n",
      "8/8 [==============================] - 0s 1ms/step - loss: 0.3640 - accuracy: 0.8388\n",
      "Epoch 247/300\n",
      "8/8 [==============================] - 0s 1ms/step - loss: 0.3656 - accuracy: 0.8554\n",
      "Epoch 248/300\n",
      "8/8 [==============================] - 0s 1ms/step - loss: 0.3804 - accuracy: 0.8388\n",
      "Epoch 249/300\n"
     ]
    },
    {
     "name": "stdout",
     "output_type": "stream",
     "text": [
      "8/8 [==============================] - 0s 1ms/step - loss: 0.3698 - accuracy: 0.8388\n",
      "Epoch 250/300\n",
      "8/8 [==============================] - 0s 1ms/step - loss: 0.3740 - accuracy: 0.8388\n",
      "Epoch 251/300\n",
      "8/8 [==============================] - 0s 1ms/step - loss: 0.3795 - accuracy: 0.8347\n",
      "Epoch 252/300\n",
      "8/8 [==============================] - 0s 1ms/step - loss: 0.3683 - accuracy: 0.8388\n",
      "Epoch 253/300\n",
      "8/8 [==============================] - 0s 2ms/step - loss: 0.4039 - accuracy: 0.8182\n",
      "Epoch 254/300\n",
      "8/8 [==============================] - 0s 1ms/step - loss: 0.3875 - accuracy: 0.8512\n",
      "Epoch 255/300\n",
      "8/8 [==============================] - 0s 1ms/step - loss: 0.3711 - accuracy: 0.8347\n",
      "Epoch 256/300\n",
      "8/8 [==============================] - 0s 1ms/step - loss: 0.3664 - accuracy: 0.8471\n",
      "Epoch 257/300\n",
      "8/8 [==============================] - 0s 1ms/step - loss: 0.3891 - accuracy: 0.8264\n",
      "Epoch 258/300\n",
      "8/8 [==============================] - 0s 1ms/step - loss: 0.3725 - accuracy: 0.8430\n",
      "Epoch 259/300\n",
      "8/8 [==============================] - 0s 1ms/step - loss: 0.3630 - accuracy: 0.8430\n",
      "Epoch 260/300\n",
      "8/8 [==============================] - 0s 1ms/step - loss: 0.3732 - accuracy: 0.8512\n",
      "Epoch 261/300\n",
      "8/8 [==============================] - 0s 1ms/step - loss: 0.3720 - accuracy: 0.8430\n",
      "Epoch 262/300\n",
      "8/8 [==============================] - 0s 1ms/step - loss: 0.3645 - accuracy: 0.8471\n",
      "Epoch 263/300\n",
      "8/8 [==============================] - 0s 1ms/step - loss: 0.3637 - accuracy: 0.8430\n",
      "Epoch 264/300\n",
      "8/8 [==============================] - 0s 1ms/step - loss: 0.3627 - accuracy: 0.8388\n",
      "Epoch 265/300\n",
      "8/8 [==============================] - 0s 1ms/step - loss: 0.3606 - accuracy: 0.8388\n",
      "Epoch 266/300\n",
      "8/8 [==============================] - 0s 1ms/step - loss: 0.3603 - accuracy: 0.8306\n",
      "Epoch 267/300\n",
      "8/8 [==============================] - 0s 1ms/step - loss: 0.3663 - accuracy: 0.8430\n",
      "Epoch 268/300\n",
      "8/8 [==============================] - 0s 1ms/step - loss: 0.3721 - accuracy: 0.8471\n",
      "Epoch 269/300\n",
      "8/8 [==============================] - 0s 2ms/step - loss: 0.3632 - accuracy: 0.8388\n",
      "Epoch 270/300\n",
      "8/8 [==============================] - 0s 2ms/step - loss: 0.3591 - accuracy: 0.8388\n",
      "Epoch 271/300\n",
      "8/8 [==============================] - 0s 2ms/step - loss: 0.3608 - accuracy: 0.8388\n",
      "Epoch 272/300\n",
      "8/8 [==============================] - 0s 2ms/step - loss: 0.3644 - accuracy: 0.8430\n",
      "Epoch 273/300\n",
      "8/8 [==============================] - 0s 1ms/step - loss: 0.3787 - accuracy: 0.8347\n",
      "Epoch 274/300\n",
      "8/8 [==============================] - 0s 1ms/step - loss: 0.4074 - accuracy: 0.8017\n",
      "Epoch 275/300\n",
      "8/8 [==============================] - 0s 1ms/step - loss: 0.3666 - accuracy: 0.8430\n",
      "Epoch 276/300\n",
      "8/8 [==============================] - 0s 1ms/step - loss: 0.3824 - accuracy: 0.8182\n",
      "Epoch 277/300\n",
      "8/8 [==============================] - 0s 2ms/step - loss: 0.3829 - accuracy: 0.8306\n",
      "Epoch 278/300\n",
      "8/8 [==============================] - 0s 1ms/step - loss: 0.3786 - accuracy: 0.8306\n",
      "Epoch 279/300\n",
      "8/8 [==============================] - 0s 1ms/step - loss: 0.3656 - accuracy: 0.8512\n",
      "Epoch 280/300\n",
      "8/8 [==============================] - 0s 1ms/step - loss: 0.3653 - accuracy: 0.8430\n",
      "Epoch 281/300\n",
      "8/8 [==============================] - 0s 2ms/step - loss: 0.3605 - accuracy: 0.8347\n",
      "Epoch 282/300\n",
      "8/8 [==============================] - 0s 1ms/step - loss: 0.3644 - accuracy: 0.8430\n",
      "Epoch 283/300\n",
      "8/8 [==============================] - 0s 1ms/step - loss: 0.3642 - accuracy: 0.8430\n",
      "Epoch 284/300\n",
      "8/8 [==============================] - 0s 1ms/step - loss: 0.3672 - accuracy: 0.8388\n",
      "Epoch 285/300\n",
      "8/8 [==============================] - 0s 1ms/step - loss: 0.3789 - accuracy: 0.8223\n",
      "Epoch 286/300\n",
      "8/8 [==============================] - 0s 1ms/step - loss: 0.3786 - accuracy: 0.8264\n",
      "Epoch 287/300\n",
      "8/8 [==============================] - 0s 1ms/step - loss: 0.3623 - accuracy: 0.8471\n",
      "Epoch 288/300\n",
      "8/8 [==============================] - 0s 1ms/step - loss: 0.3833 - accuracy: 0.8264\n",
      "Epoch 289/300\n",
      "8/8 [==============================] - 0s 1ms/step - loss: 0.3706 - accuracy: 0.8388\n",
      "Epoch 290/300\n",
      "8/8 [==============================] - 0s 1ms/step - loss: 0.3808 - accuracy: 0.8223\n",
      "Epoch 291/300\n",
      "8/8 [==============================] - 0s 2ms/step - loss: 0.3645 - accuracy: 0.8388\n",
      "Epoch 292/300\n",
      "8/8 [==============================] - 0s 1ms/step - loss: 0.3601 - accuracy: 0.8388\n",
      "Epoch 293/300\n",
      "8/8 [==============================] - 0s 1ms/step - loss: 0.3612 - accuracy: 0.8471\n",
      "Epoch 294/300\n",
      "8/8 [==============================] - 0s 1ms/step - loss: 0.3601 - accuracy: 0.8430\n",
      "Epoch 295/300\n",
      "8/8 [==============================] - 0s 2ms/step - loss: 0.3605 - accuracy: 0.8430\n",
      "Epoch 296/300\n",
      "8/8 [==============================] - 0s 2ms/step - loss: 0.3772 - accuracy: 0.8306\n",
      "Epoch 297/300\n",
      "8/8 [==============================] - 0s 2ms/step - loss: 0.3596 - accuracy: 0.8554\n",
      "Epoch 298/300\n",
      "8/8 [==============================] - 0s 2ms/step - loss: 0.3624 - accuracy: 0.8430\n",
      "Epoch 299/300\n",
      "8/8 [==============================] - 0s 2ms/step - loss: 0.3615 - accuracy: 0.8347\n",
      "Epoch 300/300\n",
      "8/8 [==============================] - 0s 2ms/step - loss: 0.3591 - accuracy: 0.8512\n"
     ]
    },
    {
     "data": {
      "text/plain": [
       "<keras.callbacks.History at 0x21e73a9a160>"
      ]
     },
     "execution_count": 39,
     "metadata": {},
     "output_type": "execute_result"
    }
   ],
   "source": [
    "nn_model.fit(X_input,Y_input,epochs=300)"
   ]
  },
  {
   "cell_type": "code",
   "execution_count": 40,
   "metadata": {},
   "outputs": [
    {
     "name": "stdout",
     "output_type": "stream",
     "text": [
      "2/2 [==============================] - 0s 3ms/step\n"
     ]
    }
   ],
   "source": [
    "pred_nn = nn_model.predict(X_output)"
   ]
  },
  {
   "cell_type": "code",
   "execution_count": 41,
   "metadata": {},
   "outputs": [],
   "source": [
    "acc = [round(x[0]) for x in pred_nn]\n",
    "\n",
    "pred_nn = acc"
   ]
  },
  {
   "cell_type": "code",
   "execution_count": 42,
   "metadata": {},
   "outputs": [
    {
     "name": "stdout",
     "output_type": "stream",
     "text": [
      "The accuracy using Neural Network is: 81.97 %\n"
     ]
    }
   ],
   "source": [
    "acc_nn = round(accuracy_score(pred_nn,Y_output)*100,2)\n",
    "\n",
    "print(\"The accuracy using Neural Network is: \"+str(acc_nn)+\" %\")"
   ]
  },
  {
   "cell_type": "markdown",
   "metadata": {},
   "source": [
    "### Metrices "
   ]
  },
  {
   "cell_type": "code",
   "execution_count": 43,
   "metadata": {
    "_uuid": "101daa51242624c49bb8b3198d9d2c9f8f1c596e"
   },
   "outputs": [
    {
     "name": "stdout",
     "output_type": "stream",
     "text": [
      "The accuracy score achieved using Logistic Regression is: 85.25 %\n",
      "The accuracy score achieved using K-Nearest Neighbors is: 67.21 %\n",
      "The accuracy score achieved using Decision Tree is: 75.41 %\n",
      "The accuracy score achieved using Random Forest is: 85.25 %\n",
      "The accuracy score achieved using Neural Network  is: 81.97 %\n"
     ]
    }
   ],
   "source": [
    "scores = [linear_score,knn_accuracy,dt_accuracy,rf_accuracy,acc_nn]\n",
    "algorithms = [\"Logistic Regression\",\"K-Nearest Neighbors\",\"Decision Tree\",\"Random Forest\",\"Neural Network \"]    \n",
    "\n",
    "for i in range(len(algorithms)):\n",
    "    print(\"The accuracy score achieved using \"+algorithms[i]+\" is: \"+str(scores[i])+\" %\")"
   ]
  },
  {
   "cell_type": "code",
   "execution_count": 44,
   "metadata": {
    "_uuid": "8060c7d426f9f7b64772f37e0a74ededca16838d"
   },
   "outputs": [
    {
     "name": "stderr",
     "output_type": "stream",
     "text": [
      "C:\\Users\\siriv\\anaconda3\\lib\\site-packages\\seaborn\\_decorators.py:36: FutureWarning: Pass the following variables as keyword args: x, y. From version 0.12, the only valid positional argument will be `data`, and passing other arguments without an explicit keyword will result in an error or misinterpretation.\n",
      "  warnings.warn(\n"
     ]
    },
    {
     "data": {
      "text/plain": [
       "<AxesSubplot:xlabel='Algorithms', ylabel='Accuracy score'>"
      ]
     },
     "execution_count": 44,
     "metadata": {},
     "output_type": "execute_result"
    },
    {
     "data": {
      "image/png": "[encoded data removed]",
      "text/plain": [
       "<Figure size 1080x576 with 1 Axes>"
      ]
     },
     "metadata": {},
     "output_type": "display_data"
    }
   ],
   "source": [
    "sb.set(rc={'figure.figsize':(15,8)})\n",
    "plt.xlabel(\"Algorithms\")\n",
    "plt.ylabel(\"Accuracy score\")\n",
    "\n",
    "sb.barplot(algorithms,scores)"
   ]
  }
 ],
 "metadata": {
  "kernelspec": {
   "display_name": "Python 3 (ipykernel)",
   "language": "python",
   "name": "python3"
  },
  "language_info": {
   "codemirror_mode": {
    "name": "ipython",
    "version": 3
   },
   "file_extension": ".py",
   "mimetype": "text/x-python",
   "name": "python",
   "nbconvert_exporter": "python",
   "pygments_lexer": "ipython3",
   "version": "3.9.12"
  }
 },
 "nbformat": 4,
 "nbformat_minor": 1
}
